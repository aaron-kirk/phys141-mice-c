{
 "cells": [
  {
   "cell_type": "code",
   "execution_count": null,
   "id": "d1dd30f4",
   "metadata": {},
   "outputs": [],
   "source": [
    "import numpy as np\n",
    "import pandas as pd\n",
    "import plotly.graph_objects as go\n",
    "import matplotlib.pyplot as plt"
   ]
  },
  {
   "cell_type": "code",
   "execution_count": null,
   "id": "1327805d",
   "metadata": {},
   "outputs": [],
   "source": [
    "\"\"\"Intializes 297 points around 0,0 in x-y plane in data frame df\"\"\"\n",
    "R_min = 25 # in kpc\n",
    "M = 1e11 # in solar masses\n",
    "\n",
    "R = []\n",
    "T = []\n",
    "for i in range(11):\n",
    "    T.append(12+3*i)\n",
    "    R.append((.2 + i*(.05))*R_min )\n",
    "    \n",
    "def rtpairs(r, n):\n",
    "\n",
    "    df = pd.DataFrame(columns=['X', 'Y'])\n",
    "    for i in range(len(r)):\n",
    "        for j in range(n[i]):    \n",
    "            df = df.append({'X': r[i] * np.cos(j*(2 * np.pi / n[i])),\n",
    "                            'Y': r[i] * np.sin(j*(2 * np.pi / n[i]))},\n",
    "                           ignore_index=True)\n",
    "    return df\n",
    "\n",
    "df = rtpairs(R, T)\n",
    "df['Z'] = np.zeros(297)\n",
    "\n",
    "\n"
   ]
  },
  {
   "cell_type": "code",
   "execution_count": null,
   "id": "306dcc2e",
   "metadata": {},
   "outputs": [],
   "source": [
    "def v_0(x, y, M):\n",
    "    \"\"\"Velocity Function in 2d\n",
    "    r^2 = x^2 + y^2 from mass M\n",
    "    \"\"\"\n",
    "    G = 4.498e-6 # kpc^3 / (M_o * years^2)\n",
    "    e_soft = 10  #softing parameter  \n",
    "    r = np.sqrt(x**2 + y ** 2)\n",
    "    v = np.sqrt( (G*M*r / (r ** 2 + e_soft**2 )  ) )\n",
    "    theta = np.arccos(x/r)\n",
    "    vy = v*np.cos(theta)\n",
    "    theta = np.arcsin(y/r)\n",
    "    vx = -v*np.sin(theta) \n",
    "\n",
    "    return [vx,vy]\n",
    "\n",
    "\n",
    "df['V_x'] , df['V_y'] = v_0(df['X'],df['Y'],M) #velocity for ring points\n",
    "df['V_z'] = np.zeros(297)"
   ]
  },
  {
   "cell_type": "code",
   "execution_count": null,
   "id": "8ced9ce1",
   "metadata": {},
   "outputs": [],
   "source": [
    "\"\"\"Graphing vector field to check velocity for flat disk no inclination at (0,0,0)\n",
    "    Visual aid, this cell is not needed\n",
    "\"\"\"\n",
    "fig = go.Figure(data = go.Cone(\n",
    "    x = df['X'],\n",
    "    y = df['Y'],\n",
    "    z = df['Z'],\n",
    "    u = df['V_x'],\n",
    "    v = df['V_y'],\n",
    "    w = df['V_z'],\n",
    "    colorscale = 'Blues',\n",
    "    sizemode = \"absolute\",\n",
    "    sizeref = 40))\n",
    "\n",
    "fig.update_layout(\n",
    "    scene = dict(aspectratio = dict(x = 1, y = 1, z = 0.8),\n",
    "    camera_eye = dict(x = 1.2, y = 1.2, z = 0.6)))\n",
    "\n",
    "fig.show()"
   ]
  },
  {
   "cell_type": "code",
   "execution_count": null,
   "id": "8432931b",
   "metadata": {},
   "outputs": [],
   "source": [
    "\"\"\"Rotates df by inclincation angles 15 for gal A and 60 for gal B of rings into df_ringA and df_ringB\n",
    "    Both gal A and gal B are still centered at (0,0,0)\n",
    "\"\"\"\n",
    "##Rotation for Galaxy A\n",
    "theta = np.radians(15)\n",
    "rot_matrix = np.array([[1, 0, 0],\n",
    "                       [0, np.cos(theta), -np.sin(theta)],\n",
    "                       [0, np.sin(theta), np.cos(theta)]])\n",
    "df_ringA = pd.DataFrame(columns=['X', 'Y','Z','V_x','V_y','V_z'])\n",
    "df_ringB = pd.DataFrame(columns=['X', 'Y','Z','V_x','V_y','V_z'])\n",
    "\n",
    "\n",
    "df_ringA['X'], df_ringA['Y'], df_ringA['Z'] = rot_matrix.dot([df['X'],df['Y'],df['Z']])\n",
    "df_ringA['V_x'], df_ringA['V_y'], df_ringA['V_z'] = rot_matrix.dot([df['V_x'],df['V_y'],df['V_z']])\n",
    "\n",
    "\n",
    "## Rotation for galaxy B\n",
    "theta = np.radians(60)\n",
    "rot_matrix = np.array([[1, 0, 0],\n",
    "                       [0, np.cos(theta), -np.sin(theta)],\n",
    "                       [0, np.sin(theta), np.cos(theta)]])\n",
    "df_ringB['X'], df_ringB['Y'], df_ringB['Z'] = rot_matrix.dot([df['X'],df['Y'],df['Z']])\n",
    "df_ringB['V_x'], df_ringB['V_y'], df_ringB['V_z'] = rot_matrix.dot([df['V_x'],df['V_y'],df['V_z']])\n"
   ]
  },
  {
   "cell_type": "code",
   "execution_count": null,
   "id": "7cbc798f",
   "metadata": {},
   "outputs": [],
   "source": [
    "\"\"\"Intializes Central Mass of Gal A and B in 2d pos and vel, \n",
    "    Path should look like theortical plot at the end\n",
    "\"\"\"\n",
    "df_mass = pd.DataFrame(columns=['X', 'Y','Z','V_x','V_y','V_z'])\n",
    "df_mass = pd.DataFrame(columns=['X', 'Y','Z','V_x','V_y','V_z'])\n",
    "vxA, vyA = v_0(-50,-50,2*M)\n",
    "vxB, vyB = v_0(50,50,2*M)\n",
    "df_mass.loc[0] = [-50,-50,0,vxA,-vyA,0]\n",
    "df_mass.loc[1] = [50,50,0,vxB,-vyB,0]\n",
    "\n",
    "print(df_mass)"
   ]
  },
  {
   "cell_type": "code",
   "execution_count": null,
   "id": "2c707c4a",
   "metadata": {},
   "outputs": [],
   "source": [
    "\"\"\"Shifts rings by their respective central masses position and velocity\n",
    "\n",
    "\"\"\"\n",
    "\n",
    "df_ringA['X'] = df_ringA['X'] - 50\n",
    "df_ringA['Y'] = df_ringA['Y'] - 50\n",
    "df_ringA['V_x'] = df_ringA['V_x'] + vxA\n",
    "df_ringA['V_y'] = df_ringA['V_y'] + vyA\n",
    "\n",
    "df_ringB['X'] = df_ringB['X'] + 50\n",
    "df_ringB['Y'] = df_ringB['Y'] + 50\n",
    "df_ringB['V_x'] = df_ringB['V_x'] + vxB\n",
    "df_ringB['V_y'] = df_ringB['V_y'] + vyB\n"
   ]
  },
  {
   "cell_type": "markdown",
   "id": "2c73b25f",
   "metadata": {},
   "source": [
    "## The rest of this notebook are plots to visual intialization\n",
    "\n",
    "df_mass has gal center A in its first index and gal center B in its second <br>\n",
    "df_ringA is rings on A <br>\n",
    "df_ringB is rings on B <br>\n",
    "df_ringcomp is ringB appended to ringA"
   ]
  },
  {
   "cell_type": "code",
   "execution_count": null,
   "id": "e3491ecf",
   "metadata": {},
   "outputs": [],
   "source": [
    "plt.scatter(df_ringA['X'],df_ringA['Y'],s=0.1)\n",
    "plt.scatter(df_ringB['X'],df_ringB['Y'],s=0.1)\n",
    "plt.plot(50,50,'o',c='orange',label='Gal B')\n",
    "plt.plot(-50,-50,'o',c='blue',label='Gal A')\n",
    "plt.xlabel(r'$x$ [kpc]')\n",
    "plt.ylabel(r'$y$ [kpc]')\n",
    "plt.legend()"
   ]
  },
  {
   "cell_type": "code",
   "execution_count": null,
   "id": "a6ceed0a",
   "metadata": {},
   "outputs": [],
   "source": [
    "\"\"\"Graphs Vector Field of df_ringcomp\n",
    "    Pretty sure like matplotlib, plotly.graph_objects has some distortions. Have checked the radius of both galaxies\n",
    "    and both are still .7R_min\n",
    "\"\"\"\n",
    "#Composite data from of rings\n",
    "df_ringcomp = df_ringA.append(df_ringB, ignore_index=True) \n",
    "fig = go.Figure(data = go.Cone(\n",
    "    x = df_ringcomp['X'],\n",
    "    y = df_ringcomp['Y'],\n",
    "    z = df_ringcomp['Z'],\n",
    "    u = df_ringcomp['V_x'],\n",
    "    v = df_ringcomp['V_y'],\n",
    "    w = df_ringcomp['V_z'],\n",
    "    colorscale = 'Blues',\n",
    "    sizemode = \"absolute\",\n",
    "    sizeref = 400))\n",
    "\n",
    "fig.update_layout(\n",
    "    scene = dict(aspectratio = dict(x = 1, y = 1, z = 0.8),\n",
    "    camera_eye = dict(x = 1.2, y = 1.2, z = 0.6)))\n",
    "\n",
    "fig.show()\n"
   ]
  },
  {
   "cell_type": "code",
   "execution_count": null,
   "id": "fdf791c8",
   "metadata": {},
   "outputs": [],
   "source": [
    "fig = plt.figure()\n",
    "ax = fig.add_subplot(111, projection='3d')\n",
    "ax.scatter(df_ringcomp['X'], df_ringcomp['Y'], df_ringcomp['Z'], s=0.1)\n",
    "ax.scatter(df_mass['X'],df_mass['Y'],df_mass['Z'],'o')\n",
    "ax.set_xlabel(r'$x$ [kpc]')\n",
    "ax.set_ylabel(r'$y$ [kpc]')\n",
    "ax.set_zlabel(r'$z$ [kpc]')"
   ]
  },
  {
   "cell_type": "code",
   "execution_count": null,
   "id": "3d50e876",
   "metadata": {},
   "outputs": [],
   "source": [
    "\"\"\"Therotical Setup in 2d \n",
    "    None of the variables or data frames from previous cells is used here. This cell was used to find the\n",
    "    intial distances between the two galaxies relative to center of mass\n",
    "\"\"\"\n",
    "e = .6 # eccentricity\n",
    "a = 25 / (.4) # in kpc\n",
    "def int_cen_orbit (theta):\n",
    "    return a*(1-e**2)/(1-e*np.cos(theta))\n",
    "\n",
    "tmp_theta = np.linspace(-np.pi,0,10001) #Half an ellispe\n",
    "Ar_orbit = int_cen_orbit(tmp_theta)\n",
    "x_A = Ar_orbit*np.cos(tmp_theta)\n",
    "y_A = Ar_orbit*np.sin(tmp_theta)\n",
    "tmp_theta = np.linspace(0,np.pi,10001)\n",
    "Br_orbit = int_cen_orbit(tmp_theta)\n",
    "x_B = Br_orbit*np.cos(tmp_theta)\n",
    "y_B = Br_orbit*np.sin(tmp_theta)\n",
    "\n",
    "#shifting ellispe A and B so Center of Mass is (0,0)\n",
    "x_A = x_A - 87.5 \n",
    "x_B = x_B + 100 - 87.5\n",
    "\n",
    "#ploting at 90 degrees of node, quarter of ellipse\n",
    "i_A = int(np.where(y_A == np.min(y_A))[0])\n",
    "plt.plot(x_A[i_A::],y_A[i_A::],label='GalA')\n",
    "\n",
    "i_B = int(np.where(y_B == np.max(y_B))[0])\n",
    "plt.plot(x_B[i_B::],y_B[i_B::],label='GalB')\n",
    "plt.legend()\n",
    "plt.plot(0,0,'o')\n",
    "\"\"\"-50,-50 is found to be gal A intial position and 50,50 is gal B\"\"\""
   ]
  },
  {
   "cell_type": "code",
   "execution_count": null,
   "id": "345628c1",
   "metadata": {},
   "outputs": [],
   "source": [
    "print(df_mass)"
   ]
  },
  {
   "cell_type": "code",
   "execution_count": null,
   "id": "ad743d3b",
   "metadata": {},
   "outputs": [],
   "source": [
    "print(df_ringA)"
   ]
  },
  {
   "cell_type": "code",
   "execution_count": null,
   "id": "0a7efd80",
   "metadata": {},
   "outputs": [],
   "source": [
    "print(df_ringB)"
   ]
  },
  {
   "cell_type": "code",
   "execution_count": null,
   "id": "ea485a00",
   "metadata": {},
   "outputs": [],
   "source": [
    "print(df_ringcomp)"
   ]
  },
  {
   "cell_type": "code",
   "execution_count": null,
   "id": "131ef1f1",
   "metadata": {},
   "outputs": [],
   "source": []
  }
 ],
 "metadata": {
  "kernelspec": {
   "display_name": "Python 3 (ipykernel)",
   "language": "python",
   "name": "python3"
  },
  "language_info": {
   "codemirror_mode": {
    "name": "ipython",
    "version": 3
   },
   "file_extension": ".py",
   "mimetype": "text/x-python",
   "name": "python",
   "nbconvert_exporter": "python",
   "pygments_lexer": "ipython3",
   "version": "3.9.5"
  }
 },
 "nbformat": 4,
 "nbformat_minor": 5
}
