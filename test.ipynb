{
 "cells": [
  {
   "cell_type": "code",
   "execution_count": 49,
   "metadata": {},
   "outputs": [],
   "source": [
    "import numpy as np\n",
    "from itertools import combinations"
   ]
  },
  {
   "cell_type": "code",
   "execution_count": 50,
   "metadata": {},
   "outputs": [
    {
     "name": "stdout",
     "output_type": "stream",
     "text": [
      "[[-0.77689665  0.28812707  0.71292736]\n",
      " [ 1.18561835  1.32297501  0.64408524]\n",
      " [ 0.82038305  0.6522369  -1.46439701]\n",
      " [ 0.59450328 -0.7199832  -1.40312991]\n",
      " [ 1.55626583 -0.46323351 -1.41391395]\n",
      " [ 0.42801373 -0.49757841  0.54394097]\n",
      " [ 0.0978091   0.17325611  1.00430751]\n",
      " [-1.70694483  0.29198756 -0.72474273]\n",
      " [-0.04779983  0.40209019 -0.05433662]\n",
      " [ 0.69606371 -0.07037857 -1.0672636 ]]\n"
     ]
    }
   ],
   "source": [
    "r = np.random.randn(10,3) # distance array\n",
    "print(r)\n",
    "id = np.arange(10)"
   ]
  },
  {
   "cell_type": "code",
   "execution_count": 51,
   "metadata": {},
   "outputs": [
    {
     "name": "stdout",
     "output_type": "stream",
     "text": [
      "[[0 1]\n",
      " [0 2]\n",
      " [0 3]\n",
      " [0 4]\n",
      " [0 5]\n",
      " [0 6]\n",
      " [0 7]\n",
      " [0 8]\n",
      " [0 9]\n",
      " [1 2]\n",
      " [1 3]\n",
      " [1 4]\n",
      " [1 5]\n",
      " [1 6]\n",
      " [1 7]\n",
      " [1 8]\n",
      " [1 9]\n",
      " [2 3]\n",
      " [2 4]\n",
      " [2 5]\n",
      " [2 6]\n",
      " [2 7]\n",
      " [2 8]\n",
      " [2 9]\n",
      " [3 4]\n",
      " [3 5]\n",
      " [3 6]\n",
      " [3 7]\n",
      " [3 8]\n",
      " [3 9]\n",
      " [4 5]\n",
      " [4 6]\n",
      " [4 7]\n",
      " [4 8]\n",
      " [4 9]\n",
      " [5 6]\n",
      " [5 7]\n",
      " [5 8]\n",
      " [5 9]\n",
      " [6 7]\n",
      " [6 8]\n",
      " [6 9]\n",
      " [7 8]\n",
      " [7 9]\n",
      " [8 9]]\n"
     ]
    }
   ],
   "source": [
    "id_pair = np.asanyarray(list(combinations(id,2)))\n",
    "print(id_pair)"
   ]
  },
  {
   "cell_type": "code",
   "execution_count": 60,
   "metadata": {},
   "outputs": [
    {
     "name": "stdout",
     "output_type": "stream",
     "text": [
      "45\n"
     ]
    }
   ],
   "source": [
    "x_pair = np.asanyarray(list(combinations(r[:,0],2)))\n",
    "y_pair = np.asanyarray(list(combinations(r[:,1],2)))\n",
    "z_pair = np.asanyarray(list(combinations(r[:,2],2)))\n",
    "\n",
    "dx_pair = np.diff(x_pair, axis=1).ravel()\n",
    "dy_pair = np.diff(y_pair, axis=1).ravel()\n",
    "dz_pair = np.diff(z_pair, axis=1).ravel()\n",
    "\n",
    "dx_pair = np.sqrt(dx_pair**2 + dy_pair**2 + dz_pair**2)\n",
    "\n",
    "a = 3.14*dx_pair\n",
    "x = id_pair[:,0]\n",
    "print(x.size)\n"
   ]
  },
  {
   "cell_type": "code",
   "execution_count": null,
   "metadata": {},
   "outputs": [],
   "source": []
  }
 ],
 "metadata": {
  "kernelspec": {
   "display_name": "ML",
   "language": "python",
   "name": "python3"
  },
  "language_info": {
   "codemirror_mode": {
    "name": "ipython",
    "version": 3
   },
   "file_extension": ".py",
   "mimetype": "text/x-python",
   "name": "python",
   "nbconvert_exporter": "python",
   "pygments_lexer": "ipython3",
   "version": "3.10.10"
  },
  "orig_nbformat": 4
 },
 "nbformat": 4,
 "nbformat_minor": 2
}
